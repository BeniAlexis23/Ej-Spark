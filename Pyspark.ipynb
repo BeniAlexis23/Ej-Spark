{
  "nbformat": 4,
  "nbformat_minor": 0,
  "metadata": {
    "colab": {
      "provenance": [],
      "include_colab_link": true
    },
    "kernelspec": {
      "name": "python3",
      "display_name": "Python 3"
    },
    "language_info": {
      "name": "python"
    }
  },
  "cells": [
    {
      "cell_type": "markdown",
      "metadata": {
        "id": "view-in-github",
        "colab_type": "text"
      },
      "source": [
        "<a href=\"https://colab.research.google.com/github/BeniAlexis23/BeniAlexis23/blob/main/Pyspark.ipynb\" target=\"_parent\"><img src=\"https://colab.research.google.com/assets/colab-badge.svg\" alt=\"Open In Colab\"/></a>"
      ]
    },
    {
      "cell_type": "markdown",
      "source": [
        "# Tarea 1"
      ],
      "metadata": {
        "id": "MrXYX4dHAgFu"
      }
    },
    {
      "cell_type": "markdown",
      "source": [
        "**Instalar PySpark**"
      ],
      "metadata": {
        "id": "4OCplRZ2AIi4"
      }
    },
    {
      "cell_type": "code",
      "execution_count": 1,
      "metadata": {
        "colab": {
          "base_uri": "https://localhost:8080/",
          "height": 0
        },
        "id": "7Pmq9EKp_7to",
        "outputId": "48a6afbe-4e99-4c6a-e847-53dc357a3fd2"
      },
      "outputs": [
        {
          "output_type": "stream",
          "name": "stdout",
          "text": [
            "Collecting pyspark\n",
            "  Downloading pyspark-3.5.0.tar.gz (316.9 MB)\n",
            "\u001b[2K     \u001b[90m━━━━━━━━━━━━━━━━━━━━━━━━━━━━━━━━━━━━━━━━\u001b[0m \u001b[32m316.9/316.9 MB\u001b[0m \u001b[31m4.5 MB/s\u001b[0m eta \u001b[36m0:00:00\u001b[0m\n",
            "\u001b[?25h  Preparing metadata (setup.py) ... \u001b[?25l\u001b[?25hdone\n",
            "Requirement already satisfied: py4j==0.10.9.7 in /usr/local/lib/python3.10/dist-packages (from pyspark) (0.10.9.7)\n",
            "Building wheels for collected packages: pyspark\n",
            "  Building wheel for pyspark (setup.py) ... \u001b[?25l\u001b[?25hdone\n",
            "  Created wheel for pyspark: filename=pyspark-3.5.0-py2.py3-none-any.whl size=317425344 sha256=39d5f39a4070e670f8a6271dbebb901cd35b7f91d99814cf7bcabd3adefb9161\n",
            "  Stored in directory: /root/.cache/pip/wheels/41/4e/10/c2cf2467f71c678cfc8a6b9ac9241e5e44a01940da8fbb17fc\n",
            "Successfully built pyspark\n",
            "Installing collected packages: pyspark\n",
            "Successfully installed pyspark-3.5.0\n"
          ]
        }
      ],
      "source": [
        "!pip install pyspark"
      ]
    },
    {
      "cell_type": "markdown",
      "source": [
        "**Importar los módulos**"
      ],
      "metadata": {
        "id": "2C7SKAUvA0uV"
      }
    },
    {
      "cell_type": "code",
      "source": [
        "from pyspark.sql import SparkSession\n",
        "from pyspark.sql.functions import count, desc , col, max , struct\n",
        "import matplotlib.pyplot as plts"
      ],
      "metadata": {
        "id": "p5yLuk6UA_NL"
      },
      "execution_count": 2,
      "outputs": []
    },
    {
      "cell_type": "markdown",
      "source": [
        "**Creando la Session spark**"
      ],
      "metadata": {
        "id": "1in3MfyBBENG"
      }
    },
    {
      "cell_type": "code",
      "source": [
        "spark = SparkSession.builder.appName(\"spark_app\").getOrCreate()"
      ],
      "metadata": {
        "id": "0umiQ-fwBHmu"
      },
      "execution_count": 3,
      "outputs": []
    },
    {
      "cell_type": "markdown",
      "source": [
        "# Tarea 2"
      ],
      "metadata": {
        "id": "OomNMzQny4TJ"
      }
    },
    {
      "cell_type": "markdown",
      "source": [
        "**Importando la información**"
      ],
      "metadata": {
        "id": "It7lOsDmBYpH"
      }
    },
    {
      "cell_type": "code",
      "source": [
        "#from google.colab import drive\n",
        "#drive.mount('/content/drive')"
      ],
      "metadata": {
        "id": "1DGE0r0lBdEh"
      },
      "execution_count": null,
      "outputs": []
    },
    {
      "cell_type": "code",
      "source": [
        "#listening_csv_path = '/content/listenings.csv'"
      ],
      "metadata": {
        "id": "Oet_0JUmvrDr"
      },
      "execution_count": null,
      "outputs": []
    },
    {
      "cell_type": "code",
      "source": [
        "listening_csv_path = '/content/listenings.csv'\n",
        "listening_df = spark.read.format('csv').option('inferSchema',True).option('header',True).load(listening_csv_path)"
      ],
      "metadata": {
        "id": "sda7pzzbugS9"
      },
      "execution_count": 4,
      "outputs": []
    },
    {
      "cell_type": "code",
      "source": [
        "listening_df.show(5)"
      ],
      "metadata": {
        "colab": {
          "base_uri": "https://localhost:8080/",
          "height": 0
        },
        "id": "xFqNqdEnutiG",
        "outputId": "cf69ded8-d906-4362-bb55-255c518c302c"
      },
      "execution_count": 8,
      "outputs": [
        {
          "output_type": "stream",
          "name": "stdout",
          "text": [
            "+-----------+-------------+--------------------+---------+-----------------+\n",
            "|    user_id|         date|               track|   artist|            album|\n",
            "+-----------+-------------+--------------------+---------+-----------------+\n",
            "|000Silenced|1299680100000|           Price Tag| Jessie J|      Who You Are|\n",
            "|000Silenced|1299679920000|Price Tag (Acoust...| Jessie J|        Price Tag|\n",
            "|000Silenced|1299679440000|Be Mine! (Ballad ...|    Robyn|         Be Mine!|\n",
            "|000Silenced|1299679200000|            Acapella|    Kelis|         Acapella|\n",
            "|000Silenced|1299675660000|   I'm Not Invisible|The Tease|I'm Not Invisible|\n",
            "+-----------+-------------+--------------------+---------+-----------------+\n",
            "only showing top 5 rows\n",
            "\n"
          ]
        }
      ]
    },
    {
      "cell_type": "markdown",
      "source": [
        "**Revisión del dataframe:**"
      ],
      "metadata": {
        "id": "1Lw79xTszXqh"
      }
    },
    {
      "cell_type": "code",
      "source": [
        "shape = (listening_df.count() , len(listening_df.columns))\n",
        "print(shape)"
      ],
      "metadata": {
        "colab": {
          "base_uri": "https://localhost:8080/",
          "height": 0
        },
        "id": "9I8w63AdzPA4",
        "outputId": "7f11e573-b29e-484c-db6c-3a3247fbaeb4"
      },
      "execution_count": 9,
      "outputs": [
        {
          "output_type": "stream",
          "name": "stdout",
          "text": [
            "(2256363, 5)\n"
          ]
        }
      ]
    },
    {
      "cell_type": "markdown",
      "source": [
        "**Eliminación de columnas:**"
      ],
      "metadata": {
        "id": "6zjtVdZFxFau"
      }
    },
    {
      "cell_type": "code",
      "source": [
        "listening_df = listening_df.drop('date')"
      ],
      "metadata": {
        "id": "2BUKVfNqxPOS"
      },
      "execution_count": 10,
      "outputs": []
    },
    {
      "cell_type": "markdown",
      "source": [
        "**Revisión del Dataframe:**"
      ],
      "metadata": {
        "id": "eAbS1Hjayx1G"
      }
    },
    {
      "cell_type": "code",
      "source": [
        "shape = (listening_df.count() , len(listening_df.columns))\n",
        "print(shape)"
      ],
      "metadata": {
        "colab": {
          "base_uri": "https://localhost:8080/",
          "height": 0
        },
        "id": "69FWuqaNyhQA",
        "outputId": "37fafac8-7fd6-4deb-ab21-ff21d38056bb"
      },
      "execution_count": 11,
      "outputs": [
        {
          "output_type": "stream",
          "name": "stdout",
          "text": [
            "(2256363, 4)\n"
          ]
        }
      ]
    },
    {
      "cell_type": "code",
      "source": [
        "listening_df.show(5)"
      ],
      "metadata": {
        "colab": {
          "base_uri": "https://localhost:8080/",
          "height": 0
        },
        "id": "ead9YULNLmOK",
        "outputId": "4cc51b07-b0bb-46e0-a7c4-2358aadbf594"
      },
      "execution_count": 12,
      "outputs": [
        {
          "output_type": "stream",
          "name": "stdout",
          "text": [
            "+-----------+--------------------+---------+-----------------+\n",
            "|    user_id|               track|   artist|            album|\n",
            "+-----------+--------------------+---------+-----------------+\n",
            "|000Silenced|           Price Tag| Jessie J|      Who You Are|\n",
            "|000Silenced|Price Tag (Acoust...| Jessie J|        Price Tag|\n",
            "|000Silenced|Be Mine! (Ballad ...|    Robyn|         Be Mine!|\n",
            "|000Silenced|            Acapella|    Kelis|         Acapella|\n",
            "|000Silenced|   I'm Not Invisible|The Tease|I'm Not Invisible|\n",
            "+-----------+--------------------+---------+-----------------+\n",
            "only showing top 5 rows\n",
            "\n"
          ]
        }
      ]
    },
    {
      "cell_type": "markdown",
      "source": [
        "**Eliminación de filas nulas:**"
      ],
      "metadata": {
        "id": "s0Qbhy-3xcQ9"
      }
    },
    {
      "cell_type": "code",
      "source": [
        "listening_df = listening_df.na.drop()"
      ],
      "metadata": {
        "id": "lMLRgzJOxhEh"
      },
      "execution_count": 13,
      "outputs": []
    },
    {
      "cell_type": "markdown",
      "source": [
        "**Revisión del conjunto da datos:**"
      ],
      "metadata": {
        "id": "gHcbAsBDxoi7"
      }
    },
    {
      "cell_type": "code",
      "source": [
        "listening_df.show(5)"
      ],
      "metadata": {
        "colab": {
          "base_uri": "https://localhost:8080/",
          "height": 0
        },
        "id": "uvLU5mXextg2",
        "outputId": "98d42910-40f4-4e97-c664-48aecec5aa86"
      },
      "execution_count": 15,
      "outputs": [
        {
          "output_type": "stream",
          "name": "stdout",
          "text": [
            "+-----------+--------------------+---------+-----------------+\n",
            "|    user_id|               track|   artist|            album|\n",
            "+-----------+--------------------+---------+-----------------+\n",
            "|000Silenced|           Price Tag| Jessie J|      Who You Are|\n",
            "|000Silenced|Price Tag (Acoust...| Jessie J|        Price Tag|\n",
            "|000Silenced|Be Mine! (Ballad ...|    Robyn|         Be Mine!|\n",
            "|000Silenced|            Acapella|    Kelis|         Acapella|\n",
            "|000Silenced|   I'm Not Invisible|The Tease|I'm Not Invisible|\n",
            "+-----------+--------------------+---------+-----------------+\n",
            "only showing top 5 rows\n",
            "\n"
          ]
        }
      ]
    },
    {
      "cell_type": "code",
      "source": [
        "shape = (listening_df.count() , len(listening_df.columns))\n",
        "print(shape)"
      ],
      "metadata": {
        "colab": {
          "base_uri": "https://localhost:8080/",
          "height": 0
        },
        "id": "j7PNeZNaMXfD",
        "outputId": "198620e1-c03a-4211-bd74-6d416f54f52d"
      },
      "execution_count": 16,
      "outputs": [
        {
          "output_type": "stream",
          "name": "stdout",
          "text": [
            "(2105634, 4)\n"
          ]
        }
      ]
    },
    {
      "cell_type": "markdown",
      "source": [
        "**Revisión del esquema:**"
      ],
      "metadata": {
        "id": "rUMpyvtdyA0z"
      }
    },
    {
      "cell_type": "code",
      "source": [
        "listening_df.printSchema()"
      ],
      "metadata": {
        "colab": {
          "base_uri": "https://localhost:8080/",
          "height": 0
        },
        "id": "q2oWvOtByHna",
        "outputId": "d440762d-8611-463b-d765-0dd3d2fa0b92"
      },
      "execution_count": 17,
      "outputs": [
        {
          "output_type": "stream",
          "name": "stdout",
          "text": [
            "root\n",
            " |-- user_id: string (nullable = true)\n",
            " |-- track: string (nullable = true)\n",
            " |-- artist: string (nullable = true)\n",
            " |-- album: string (nullable = true)\n",
            "\n"
          ]
        }
      ]
    },
    {
      "cell_type": "markdown",
      "source": [
        "**Dataframe:**"
      ],
      "metadata": {
        "id": "F3TNx_AhyU5h"
      }
    },
    {
      "cell_type": "code",
      "source": [
        "shape = (listening_df.count() , len(listening_df.columns))\n",
        "print(shape)"
      ],
      "metadata": {
        "colab": {
          "base_uri": "https://localhost:8080/",
          "height": 0
        },
        "id": "RmAVc5LTyXKj",
        "outputId": "f185614a-a300-436e-e921-fd06319a2ae2"
      },
      "execution_count": 18,
      "outputs": [
        {
          "output_type": "stream",
          "name": "stdout",
          "text": [
            "(2105634, 4)\n"
          ]
        }
      ]
    },
    {
      "cell_type": "markdown",
      "source": [
        "# Tarea *3*"
      ],
      "metadata": {
        "id": "tgiTiqy-zpcy"
      }
    },
    {
      "cell_type": "markdown",
      "source": [
        "**Query#1: Seleccione 2 columnas: pista (track) y artista (artist)**"
      ],
      "metadata": {
        "id": "K3epMzIKzuVm"
      }
    },
    {
      "cell_type": "code",
      "source": [
        "q1 = listening_df.select('artist','track')\n",
        "q1.show(5)"
      ],
      "metadata": {
        "colab": {
          "base_uri": "https://localhost:8080/",
          "height": 0
        },
        "id": "5pAgZejN0JmS",
        "outputId": "efdb7b67-4916-4fd3-8fba-64c7d324f55b"
      },
      "execution_count": 19,
      "outputs": [
        {
          "output_type": "stream",
          "name": "stdout",
          "text": [
            "+---------+--------------------+\n",
            "|   artist|               track|\n",
            "+---------+--------------------+\n",
            "| Jessie J|           Price Tag|\n",
            "| Jessie J|Price Tag (Acoust...|\n",
            "|    Robyn|Be Mine! (Ballad ...|\n",
            "|    Kelis|            Acapella|\n",
            "|The Tease|   I'm Not Invisible|\n",
            "+---------+--------------------+\n",
            "only showing top 5 rows\n",
            "\n"
          ]
        }
      ]
    },
    {
      "cell_type": "markdown",
      "source": [
        "**Query#2: Búsqueda de todos los registros de aquellos usuarios que han escuchado a Rihanna**"
      ],
      "metadata": {
        "id": "GhL2nWBw0SPZ"
      }
    },
    {
      "cell_type": "code",
      "source": [
        "q2 = listening_df.select('*').filter(listening_df.artist == 'Rihanna')\n",
        "q2.show(5)"
      ],
      "metadata": {
        "colab": {
          "base_uri": "https://localhost:8080/",
          "height": 0
        },
        "id": "OFCN8H1N0ZjS",
        "outputId": "932ce7a0-0671-4d36-b22f-ed42f823f24f"
      },
      "execution_count": 21,
      "outputs": [
        {
          "output_type": "stream",
          "name": "stdout",
          "text": [
            "+-----------+--------------------+-------+--------------------+\n",
            "|    user_id|               track| artist|               album|\n",
            "+-----------+--------------------+-------+--------------------+\n",
            "|000Silenced|Don't Stop The Mu...|Rihanna|Addicted 2 Bassli...|\n",
            "|000Silenced|           Disturbia|Rihanna|Good Girl Gone Ba...|\n",
            "|00williamsl|   Hatin On The Club|Rihanna|              Random|\n",
            "|00williamsl|   Hatin On The Club|Rihanna|              Random|\n",
            "|00williamsl|         Complicated|Rihanna|                Loud|\n",
            "+-----------+--------------------+-------+--------------------+\n",
            "only showing top 5 rows\n",
            "\n"
          ]
        }
      ]
    },
    {
      "cell_type": "markdown",
      "source": [
        "**Query#3: Encontremos el top 10 de usuarios que son fanáticos de Rihanna**"
      ],
      "metadata": {
        "id": "MBJ_MK1K0tHm"
      }
    },
    {
      "cell_type": "code",
      "source": [
        "q3 = listening_df.select('user_id').filter(listening_df.artist =='Rihanna').groupby('user_id').agg(count('user_id').alias('count')).orderBy(desc('count')).limit(10)\n",
        "q3.show()"
      ],
      "metadata": {
        "colab": {
          "base_uri": "https://localhost:8080/",
          "height": 0
        },
        "id": "dmS0iEEI0X3l",
        "outputId": "3f4be830-06e0-41ab-8b11-4624636ffe79"
      },
      "execution_count": 22,
      "outputs": [
        {
          "output_type": "stream",
          "name": "stdout",
          "text": [
            "+--------------+-----+\n",
            "|       user_id|count|\n",
            "+--------------+-----+\n",
            "|          adxx|  164|\n",
            "|       AndyyyA|  123|\n",
            "|    BIGBANG186|  121|\n",
            "|      AndyKitt|  115|\n",
            "|   Aims_rose18|  103|\n",
            "|ascendingstars|   82|\n",
            "|    acidbubble|   74|\n",
            "|    AntonyLowe|   63|\n",
            "|       cathers|   60|\n",
            "|BRITNEYFAN9921|   58|\n",
            "+--------------+-----+\n",
            "\n"
          ]
        }
      ]
    },
    {
      "cell_type": "markdown",
      "source": [
        "**Query#4: Encuentra las 10 pistas más famosas**"
      ],
      "metadata": {
        "id": "3-8GFOaf1bug"
      }
    },
    {
      "cell_type": "code",
      "source": [
        "q4 = listening_df.select('artist','track').groupby('artist','track').agg(count('*').alias('count')).orderBy(desc('count')).limit(10)\n",
        "q4.show()"
      ],
      "metadata": {
        "colab": {
          "base_uri": "https://localhost:8080/",
          "height": 0
        },
        "id": "cFJg_oeU1iUG",
        "outputId": "7d62f3b2-811d-4c5a-ed25-a17fa6830a98"
      },
      "execution_count": 23,
      "outputs": [
        {
          "output_type": "stream",
          "name": "stdout",
          "text": [
            "+--------------+----------------+-----+\n",
            "|        artist|           track|count|\n",
            "+--------------+----------------+-----+\n",
            "| Justin Bieber|           Sorry|  567|\n",
            "|          Zayn|      PILLOWTALK|  561|\n",
            "|      Bon Iver|     Skinny Love|  511|\n",
            "|Arctic Monkeys|Do I Wanna Know?|  476|\n",
            "|      Bastille|         Pompeii|  440|\n",
            "|Mumford & Sons| Little Lion Man|  438|\n",
            "|Ellie Goulding|     Starry Eyed|  431|\n",
            "|     Lady Gaga|     Bad Romance|  430|\n",
            "|       Rihanna|            Work|  429|\n",
            "| Justin Bieber|   Love Yourself|  426|\n",
            "+--------------+----------------+-----+\n",
            "\n"
          ]
        }
      ]
    },
    {
      "cell_type": "markdown",
      "source": [
        "**Query#5: Encuentra los 10 temas más famosos de Rihanna**"
      ],
      "metadata": {
        "id": "f5m2Uxlz1Ewm"
      }
    },
    {
      "cell_type": "code",
      "source": [
        "q5 = listening_df.select('artist','track').filter(listening_df.artist == 'Rihanna').groupby('artist','track').agg(count('*').alias('count')).orderBy(desc('count')).limit(10)\n",
        "q5.show()"
      ],
      "metadata": {
        "colab": {
          "base_uri": "https://localhost:8080/",
          "height": 0
        },
        "id": "q9SR36F81CMz",
        "outputId": "292ad9ea-78c0-462a-a0f5-9187dabe7dd4"
      },
      "execution_count": 26,
      "outputs": [
        {
          "output_type": "stream",
          "name": "stdout",
          "text": [
            "+-------+--------------------+-----+\n",
            "| artist|               track|count|\n",
            "+-------+--------------------+-----+\n",
            "|Rihanna|                Work|  429|\n",
            "|Rihanna|We Found Love (fe...|  271|\n",
            "|Rihanna|Only Girl (In the...|  266|\n",
            "|Rihanna|            Rude Boy|  217|\n",
            "|Rihanna|            Diamonds|  205|\n",
            "|Rihanna|                 S&M|  193|\n",
            "|Rihanna|      Kiss it Better|  140|\n",
            "|Rihanna| Where Have You Been|  133|\n",
            "|Rihanna|           Needed Me|  131|\n",
            "|Rihanna|           Desperado|  131|\n",
            "+-------+--------------------+-----+\n",
            "\n"
          ]
        }
      ]
    },
    {
      "cell_type": "markdown",
      "source": [
        "**Query#6 Encuentra los 10 álbunes mas famosos**"
      ],
      "metadata": {
        "id": "k7OqFIuR2ToB"
      }
    },
    {
      "cell_type": "code",
      "source": [
        "q6 = listening_df.select('artist','album').groupby('artist','album').agg(count('*').alias('count')).orderBy(desc('count')).limit(10)\n",
        "q6.show()"
      ],
      "metadata": {
        "colab": {
          "base_uri": "https://localhost:8080/",
          "height": 0
        },
        "id": "ComGC79d2Qxu",
        "outputId": "eca00037-069f-48cf-ddca-71bdb68614f1"
      },
      "execution_count": 27,
      "outputs": [
        {
          "output_type": "stream",
          "name": "stdout",
          "text": [
            "+--------------+--------------------+-----+\n",
            "|        artist|               album|count|\n",
            "+--------------+--------------------+-----+\n",
            "|         alt-J|     An Awesome Wave| 2228|\n",
            "|        The xx|                  xx| 2208|\n",
            "|Mumford & Sons|        Sigh No More| 2165|\n",
            "|Arctic Monkeys|                  AM| 2071|\n",
            "|      Bon Iver|            For Emma| 2067|\n",
            "|Arctic Monkeys|Whatever People S...| 1974|\n",
            "|    Kanye West|   The Life of Pablo| 1961|\n",
            "|        Grimes|          Art Angels| 1918|\n",
            "|         Adele|                  21| 1806|\n",
            "|   Biffy Clyro|    Only Revolutions| 1761|\n",
            "+--------------+--------------------+-----+\n",
            "\n"
          ]
        }
      ]
    },
    {
      "cell_type": "markdown",
      "source": [
        "# Tarea 4: revisa tu aula virtual y desarrolla el ejercicio de Pyspark"
      ],
      "metadata": {
        "id": "y0ktoC863Gq3"
      }
    },
    {
      "cell_type": "code",
      "source": [
        "genre_csv_path = 'genre.csv'\n",
        "genre_df=spark.read.format('csv').option('inferSchema',True).option('header',True).load(genre_csv_path)"
      ],
      "metadata": {
        "id": "Jgzc1cL03WH_"
      },
      "execution_count": 28,
      "outputs": []
    },
    {
      "cell_type": "markdown",
      "source": [
        "**Se mostrará la información de las columnas artista y genre**"
      ],
      "metadata": {
        "id": "sEw9XUpOWy8M"
      }
    },
    {
      "cell_type": "code",
      "source": [
        "genre_df.show(5)"
      ],
      "metadata": {
        "colab": {
          "base_uri": "https://localhost:8080/",
          "height": 0
        },
        "id": "8zx2Ae21QTkb",
        "outputId": "042621ea-3822-488d-c886-59959580b10a"
      },
      "execution_count": 29,
      "outputs": [
        {
          "output_type": "stream",
          "name": "stdout",
          "text": [
            "+----------+-----+\n",
            "|    artist|genre|\n",
            "+----------+-----+\n",
            "|      Muse| rock|\n",
            "|   Nirvana| rock|\n",
            "|  Bon Jovi| rock|\n",
            "|The Police| rock|\n",
            "|      Kiss| rock|\n",
            "+----------+-----+\n",
            "only showing top 5 rows\n",
            "\n"
          ]
        }
      ]
    },
    {
      "cell_type": "code",
      "source": [
        "listening_df.show(5)"
      ],
      "metadata": {
        "colab": {
          "base_uri": "https://localhost:8080/",
          "height": 0
        },
        "id": "eUUjlGT4Qfyq",
        "outputId": "75e7df61-85a0-4c9d-8e32-89394100717e"
      },
      "execution_count": 30,
      "outputs": [
        {
          "output_type": "stream",
          "name": "stdout",
          "text": [
            "+-----------+--------------------+---------+-----------------+\n",
            "|    user_id|               track|   artist|            album|\n",
            "+-----------+--------------------+---------+-----------------+\n",
            "|000Silenced|           Price Tag| Jessie J|      Who You Are|\n",
            "|000Silenced|Price Tag (Acoust...| Jessie J|        Price Tag|\n",
            "|000Silenced|Be Mine! (Ballad ...|    Robyn|         Be Mine!|\n",
            "|000Silenced|            Acapella|    Kelis|         Acapella|\n",
            "|000Silenced|   I'm Not Invisible|The Tease|I'm Not Invisible|\n",
            "+-----------+--------------------+---------+-----------------+\n",
            "only showing top 5 rows\n",
            "\n"
          ]
        }
      ]
    },
    {
      "cell_type": "markdown",
      "source": [
        "**Unir ambos modelos de datos**"
      ],
      "metadata": {
        "id": "Eo3FXS2MW6Tj"
      }
    },
    {
      "cell_type": "code",
      "source": [
        "data = listening_df.join(genre_df, how ='inner',on=['artist'])\n",
        "data.show(5)"
      ],
      "metadata": {
        "colab": {
          "base_uri": "https://localhost:8080/",
          "height": 0
        },
        "id": "h-7ZxkNrQx_K",
        "outputId": "e29e349e-0f22-48b6-b254-5d665febefe3"
      },
      "execution_count": 32,
      "outputs": [
        {
          "output_type": "stream",
          "name": "stdout",
          "text": [
            "+--------+-----------+--------------------+-----------+--------------------+\n",
            "|  artist|    user_id|               track|      album|               genre|\n",
            "+--------+-----------+--------------------+-----------+--------------------+\n",
            "|Jessie J|000Silenced|           Price Tag|Who You Are| Ariana Grande & ...|\n",
            "|Jessie J|000Silenced|           Price Tag|Who You Are| Jhene Aiko & Rixton|\n",
            "|Jessie J|000Silenced|           Price Tag|Who You Are| Nicki Minaj & Ar...|\n",
            "|Jessie J|000Silenced|           Price Tag|Who You Are|                 pop|\n",
            "|Jessie J|000Silenced|Price Tag (Acoust...|  Price Tag| Ariana Grande & ...|\n",
            "+--------+-----------+--------------------+-----------+--------------------+\n",
            "only showing top 5 rows\n",
            "\n"
          ]
        }
      ]
    },
    {
      "cell_type": "markdown",
      "source": [
        "**Query #7: Encuentra los 10 mejores usuarios que son fanáticos de la música pop**"
      ],
      "metadata": {
        "id": "P83Fa3K6W-tz"
      }
    },
    {
      "cell_type": "code",
      "source": [
        "q7 = data.select('user_id').filter(data.genre == 'pop').groupby('user_id').agg(count('*').alias('count')).orderBy(desc('count')).limit(10)\n",
        "q7.show()"
      ],
      "metadata": {
        "colab": {
          "base_uri": "https://localhost:8080/",
          "height": 0
        },
        "id": "LzoJXW7GRRti",
        "outputId": "396759b7-5e06-491f-f44d-e9e948131b26"
      },
      "execution_count": 33,
      "outputs": [
        {
          "output_type": "stream",
          "name": "stdout",
          "text": [
            "+--------------+-----+\n",
            "|       user_id|count|\n",
            "+--------------+-----+\n",
            "|       01Green|  496|\n",
            "|    BIGBANG186|  227|\n",
            "|   aboylike_me|  200|\n",
            "|    addywalter|  199|\n",
            "| artistic-leaf|  199|\n",
            "|   CarlDawkins|  198|\n",
            "|       beth182|  197|\n",
            "|BeatriceCarver|  196|\n",
            "|    angelsmith|  193|\n",
            "|      Chloe_25|  193|\n",
            "+--------------+-----+\n",
            "\n"
          ]
        }
      ]
    },
    {
      "cell_type": "markdown",
      "source": [
        "**Query #8: Encuentra los 10 géneros más famosos**"
      ],
      "metadata": {
        "id": "bmZw_aCzSfwq"
      }
    },
    {
      "cell_type": "code",
      "source": [
        "q8 = data.select('genre').groupby('genre').agg(count('*').alias('count')).orderBy(desc('count')).limit(10)\n",
        "q8.show()"
      ],
      "metadata": {
        "colab": {
          "base_uri": "https://localhost:8080/",
          "height": 0
        },
        "id": "Fp86_TNRRuMD",
        "outputId": "014710b9-596f-4bbe-a072-499a4a7d67a3"
      },
      "execution_count": 34,
      "outputs": [
        {
          "output_type": "stream",
          "name": "stdout",
          "text": [
            "+----------+------+\n",
            "|     genre| count|\n",
            "+----------+------+\n",
            "|      rock|404071|\n",
            "|       pop|238921|\n",
            "|electronic| 84225|\n",
            "|   hip hop| 79702|\n",
            "|indie rock| 69374|\n",
            "|      folk| 69028|\n",
            "|      punk| 58787|\n",
            "|       r&b| 56613|\n",
            "|      jazz| 33122|\n",
            "|     indie| 32798|\n",
            "+----------+------+\n",
            "\n"
          ]
        }
      ]
    },
    {
      "cell_type": "markdown",
      "source": [
        "**Query #9: Descubra el género favorito de cada usuario**"
      ],
      "metadata": {
        "id": "YL5Zmsx2SpZS"
      }
    },
    {
      "cell_type": "code",
      "source": [
        "q9 = data.select('user_id','genre').groupby('user_id','genre').agg(count('*').alias('count')).orderBy('user_id').limit(10)\n",
        "q9.show()"
      ],
      "metadata": {
        "colab": {
          "base_uri": "https://localhost:8080/",
          "height": 0
        },
        "id": "5BIeMlH4SvlU",
        "outputId": "08f71e48-97e8-45fb-f6ed-7cae2e224309"
      },
      "execution_count": 68,
      "outputs": [
        {
          "output_type": "stream",
          "name": "stdout",
          "text": [
            "+----------+--------------------+-----+\n",
            "|   user_id|               genre|count|\n",
            "+----------+--------------------+-----+\n",
            "|-Amnesiac-|               metal|  150|\n",
            "|-Amnesiac-|                rock|   50|\n",
            "|    -Bald-|                jazz|    1|\n",
            "|    -Bald-|            trip hop|   10|\n",
            "|    -Bald-|                rock|   26|\n",
            "|    -Bald-|contemporary clas...|   27|\n",
            "|    -Bald-|   Mikołaj Stroiński|    6|\n",
            "|    -Bald-|          french pop|    3|\n",
            "|    -Bald-|         power metal|   11|\n",
            "|    -Bald-|           indie pop|   44|\n",
            "+----------+--------------------+-----+\n",
            "\n"
          ]
        }
      ]
    },
    {
      "cell_type": "code",
      "source": [
        "q9_2 = q9.groupby('user_id').agg(max(struct(col('count'),col('genre'))).alias('max')).select(col('user_id'),col('max.genre'))\n",
        "q9_2.show()"
      ],
      "metadata": {
        "colab": {
          "base_uri": "https://localhost:8080/",
          "height": 0
        },
        "id": "DTZJIre1kYIr",
        "outputId": "d2bd1232-3099-4beb-f6b5-771b3ef93d0a"
      },
      "execution_count": 70,
      "outputs": [
        {
          "output_type": "stream",
          "name": "stdout",
          "text": [
            "+----------+----------+\n",
            "|   user_id|     genre|\n",
            "+----------+----------+\n",
            "|-Amnesiac-|     metal|\n",
            "|    -Bald-|soundtrack|\n",
            "+----------+----------+\n",
            "\n"
          ]
        }
      ]
    },
    {
      "cell_type": "markdown",
      "source": [
        "**Query #10: Descubre cuantos cantantes de pop, rock, metal y hip hop\n",
        "tenemos y luego visualizarlo usando un gráfico de barras**"
      ],
      "metadata": {
        "id": "erTLzxWxVTbq"
      }
    },
    {
      "cell_type": "code",
      "source": [
        "q10 = genre_df.select('genre').filter((col('genre') == 'pop') | (col('genre') == 'rock') | (col('genre') == 'metal')|(col('genre') == 'hip hop')).groupby('genre').agg(count('*').alias('count'))\n",
        "q10.show()"
      ],
      "metadata": {
        "colab": {
          "base_uri": "https://localhost:8080/",
          "height": 0
        },
        "id": "RyS-7MPUVhe7",
        "outputId": "38fac0df-4eac-442f-edef-69eea523b68c"
      },
      "execution_count": 43,
      "outputs": [
        {
          "output_type": "stream",
          "name": "stdout",
          "text": [
            "+-------+-----+\n",
            "|  genre|count|\n",
            "+-------+-----+\n",
            "|    pop| 6960|\n",
            "|hip hop| 4288|\n",
            "|  metal| 1854|\n",
            "|   rock| 9066|\n",
            "+-------+-----+\n",
            "\n"
          ]
        }
      ]
    },
    {
      "cell_type": "markdown",
      "source": [
        "**Ahora, visualizamos los resultados usando matplotlib**"
      ],
      "metadata": {
        "id": "lcfv9ESaWcKr"
      }
    },
    {
      "cell_type": "code",
      "source": [
        "q10_list = q10.collect()\n",
        "lables = [row['genre'] for row in q10_list]\n",
        "counts = [row['count'] for row in q10_list]\n",
        "print(lables)\n",
        "print(counts)"
      ],
      "metadata": {
        "colab": {
          "base_uri": "https://localhost:8080/",
          "height": 0
        },
        "id": "scZJowveVvSj",
        "outputId": "fc1e61b6-5fcd-4dc7-9d2b-86509658a77d"
      },
      "execution_count": 46,
      "outputs": [
        {
          "output_type": "stream",
          "name": "stdout",
          "text": [
            "['pop', 'hip hop', 'metal', 'rock']\n",
            "[6960, 4288, 1854, 9066]\n"
          ]
        }
      ]
    },
    {
      "cell_type": "markdown",
      "source": [
        "**Ahora visualizamos estas dos listas usando un gráfico de barras**"
      ],
      "metadata": {
        "id": "FWwbuVehWS5D"
      }
    },
    {
      "cell_type": "code",
      "source": [
        "plts.bar(lables,counts)"
      ],
      "metadata": {
        "colab": {
          "base_uri": "https://localhost:8080/",
          "height": 447
        },
        "id": "cl7YojMAWJ70",
        "outputId": "e9022e5b-2c89-49f7-807c-5fb061b6cae7"
      },
      "execution_count": 47,
      "outputs": [
        {
          "output_type": "execute_result",
          "data": {
            "text/plain": [
              "<BarContainer object of 4 artists>"
            ]
          },
          "metadata": {},
          "execution_count": 47
        },
        {
          "output_type": "display_data",
          "data": {
            "text/plain": [
              "<Figure size 640x480 with 1 Axes>"
            ],
            "image/png": "[encoded data removed]"
          },
          "metadata": {}
        }
      ]
    }
  ]
}